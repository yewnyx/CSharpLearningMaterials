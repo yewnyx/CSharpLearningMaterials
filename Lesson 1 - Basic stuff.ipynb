{
 "cells": [
  {
   "cell_type": "markdown",
   "metadata": {},
   "source": [
    "# Big ideas"
   ]
  },
  {
   "cell_type": "markdown",
   "metadata": {},
   "source": [
    "## WTF even is a program?\n",
    "Incomplete and hand-wavy, but let's work with it for now.\n",
    "\n",
    "* Input can be:\n",
    "  * Text input\n",
    "  * Files to read from\n",
    "  * Mouse & Keyboard\n",
    "  * Controllers\n",
    "  * Literally any content that you can supply to a program\n",
    "* Behavior/Code is basically...\n",
    "  * ...stuff that takes inputs\n",
    "  * ...and produces outputs\n",
    "* Output can be:\n",
    "  * Pixels on your screen\n",
    "  * Sound from your speakers\n",
    "  * Haptics on your controllers\n",
    "  * Files to write to\n",
    "  * Any kind of feedback that the program can produce for you\n"
   ]
  },
  {
   "cell_type": "markdown",
   "metadata": {},
   "source": [
    "### Question Prompt:\n",
    "1. Describe the input(s), output(s), and general behavior of an automatic door.\n",
    "  * For example, a light switch's input is the switch, its output is the light source, and a simple description of its behavior is that flipping the switch causes the light source to output light.\n",
    "2. Describe other real-life things that work in predictable ways. What are their inputs, what are their outputs, and how do they generally behave?"
   ]
  },
  {
   "cell_type": "markdown",
   "metadata": {},
   "source": [
    "\n",
    "## Objects and their relationships\n",
    "\n",
    "One extremely useful way to structure one's thoughts (where programming is concerned) is to interpret the world as containing objects and their relationships. For example, in the light switch example, you have two main objects, the power switch and the power source. There is a relationship beetween the power switch and the light source: the switch is connected to the light source's light emissions.\n",
    "\n",
    "It doesn't have to be connected by behavior, though. A car might be described as a chassis, axles, and wheels. The chassis has two axles, and the axles have two wheels each. That is also a way of describing and breaking down a \"car\" into its components. A TV remote might be broken down into batteries, a circuit board, and buttons, or depending on what you're working with maybe you break it down mechanically as a plastic shell, silicone rubber buttons, a battery cover, etc. - it all depends on what is relevant to you. If you're conceerned with physical design, the physical breakdown matters. If you're designing the electronics, you may wan to describe which electronics you need instead.\n",
    "\n",
    "More on this later, but let's get straight to coding."
   ]
  },
  {
   "cell_type": "markdown",
   "metadata": {},
   "source": [
    "# Code\n",
    "\n",
    "## The most basic shit that works"
   ]
  },
  {
   "cell_type": "code",
   "execution_count": null,
   "metadata": {
    "dotnet_interactive": {
     "language": "csharp"
    }
   },
   "outputs": [
    {
     "name": "stdout",
     "output_type": "stream",
     "text": [
      "Hello world!\r\n",
      "X is 1\r\n",
      "Y is 2\r\n",
      "Y + 2 is 4\r\n"
     ]
    }
   ],
   "source": [
    "Console.WriteLine(\"Hello world!\");\n",
    "// This is a comment\n",
    "int x = 1;\n",
    "int y = x + 1;\n",
    "Console.WriteLine($\"X is {x}\");\n",
    "Console.WriteLine($\"Y is {y}\");\n",
    "var y_plus_2 = y + 2;\n",
    "Console.WriteLine($\"Y + 2 is {y_plus_2}\");\n"
   ]
  },
  {
   "cell_type": "markdown",
   "metadata": {},
   "source": [
    "* `Console.WriteLine`: Print out a line of text. Specifically, print some text then write a new line to the output. `Console.Write` (no `Line`) will print out text *without* adding a new line.\n",
    "* `\"...\"`: A string of text.\n",
    "* //...: A comment that has no effect on the program.\n",
    "* `int x = 1`: create a variable named `x`, and give it a value of 1. Its type is `int`, i.e. it is an integer.\n",
    "* `int y = x + 1`: create a variable named `y`, add 1 to the value of `x`, and assign that to `y`. Its type is also `int`.\n",
    "* `$\"...\"`: A *formatted* string of text. That is to say...\n",
    "  * `$\"a {x} b\"` looks for the variable named `x`, then substitutes it into the string, resulting in `a 1 b` when `x` is 1.\n",
    "* `var y_plus_2 = y + 2`: create a variable named `y_plus_2` and give it a value of the result of `y + 2`. Because of `var`, C# will try to guess the type (which is often straightforward or obvious to C#).\n",
    "\n",
    "It's important to know some of the basic elements of code.\n",
    "* **Syntax**: Structured text. Stuff a computer can look at and say \"that doesn't look right\", i.e. \"doesn't that need an end parentheses?\" or \"that line should have a semicolon at the end\".\n",
    "* **Tokens**: A token is a single unit of syntax - usually separated by spaces. The exact definition isn't that important to know, but `1` is a token, `\"a piece of text\"` is a token. The compiler recognizes `1 + 2` as three tokens, `1`, `+`, and `2`, because it understands those separately. Syntax is the combination of tokens, but you don't have to dwell too much on understanding the meaning exactly.\n",
    "* **Expression**: One or more tokens that have a value. `1 + 2` is an expression with a value of `3`. `y_plus_2 < 5` is an expression with a value of `true`. `true` is a token, but counts as an expression with a value of `true`. Similarly, `\"a b c d\"` is a string expression.\n",
    "* **Statement**: A series of tokens that does something.\n",
    "  * `int y = x + 1` is a statement that takes the value of the **expression**, and assigns it to a new variable `y`.\n",
    "  * `Console.WriteLine(\"asdf\")` is a statement that takes the value of a string **expression**, and prints it to the console."
   ]
  },
  {
   "cell_type": "markdown",
   "metadata": {},
   "source": [
    "## Control statements\n",
    "\n",
    "To see the effects of changing this code you'll need to download Visual Studio Code and install the .NET SDK and whatever Jupyter Notebook stuff it prompts  you to.\n",
    "\n",
    "Not all code gets executed in order like a list from line 0 to 100 (or however many you have). Sometimes, you want to skip lines, or repeat lines. Control statements direct this flow of code.\n",
    "\n",
    "### Conditionals: If, else, and else if\n",
    "The basic conditional control statements (\"conditionals\" for short) check if something is true or not, then choose the lines of code to run if the condition is true or not.\n",
    "\n",
    "* The syntax for `if` is: `if (CONDITION) { STATEMENTS }` - where `CONDITION` is an **expression** that seems like it could be true or false [1], and `STATEMENTS` are lines of code (**statements**) that do stuff.\n",
    "* The syntax for `else` is: `else { STATEMENTS }`, but it ALWAYS has to be preceded by an `if`. (`else if` does count)\n",
    "* The syntax for `else if` is: `else if (CONDITION { STATEMENTS }`), and like `else`, it always follows `if`.\n",
    "\n",
    "You can use `if` by itself, or you can use `if { ... } else { ... }`. Similarly, you can `else if` if you want to chech a couple of things in a row.\n",
    "\n",
    "[1]: Also known as a \"Boolean\", or `bool`. So in this case we'd call it a \"boolean expression\", or a \"condition\" if it's being used by a conditional statement."
   ]
  },
  {
   "cell_type": "code",
   "execution_count": null,
   "metadata": {
    "dotnet_interactive": {
     "language": "csharp"
    }
   },
   "outputs": [
    {
     "name": "stdout",
     "output_type": "stream",
     "text": [
      "A is neither less than zero nor exactly zero...so it's greater than zero (a > 0).\r\n"
     ]
    }
   ],
   "source": [
    "var a = 1; // Change me and see the difference in output!\n",
    "if (a < 0) { // Is a less than zero? If so, do this.\n",
    "    Console.WriteLine(\"A is less than zero! It is: \" + a.ToString());\n",
    "} else if (a == 0) { // If not, was it equal to zero? If so, do this.\n",
    "    Console.WriteLine(\"A is exactly zero!\");\n",
    "} else { // If not, do this.\n",
    "    Console.WriteLine(\"A is neither less than zero nor exactly zero...so it's greater than zero (a > 0).\");\n",
    "}"
   ]
  },
  {
   "cell_type": "markdown",
   "metadata": {},
   "source": [
    "### Loops: while, do while, for, foreach\n",
    "\n",
    "#### While\n",
    "While loops repeat their statements until their condition becomes true. If their conditions are never true, they don't run, if their condition is always true, they never terminate (stop running), so take a little care to make sure your conditional is correct."
   ]
  },
  {
   "cell_type": "code",
   "execution_count": null,
   "metadata": {
    "dotnet_interactive": {
     "language": "csharp"
    }
   },
   "outputs": [
    {
     "name": "stdout",
     "output_type": "stream",
     "text": [
      "B is starting at value 2.\r\n",
      "B is 2...waiting until it's not less than 5.\r\n",
      "B is 3...waiting until it's not less than 5.\r\n",
      "B is 4...waiting until it's not less than 5.\r\n",
      "B is no longer less than 5. Its value is 5\r\n"
     ]
    }
   ],
   "source": [
    "int b = 2;\n",
    "Console.WriteLine($\"B is starting at value {b}.\");\n",
    "while (b < 5) {\n",
    "    Console.WriteLine($\"B is {b}...waiting until it's not less than 5.\");\n",
    "    b = b + 1;\n",
    "}\n",
    "Console.WriteLine($\"B is no longer less than 5. Its value is {b}\");"
   ]
  },
  {
   "cell_type": "markdown",
   "metadata": {},
   "source": [
    "#### Do While\n",
    "Although slightly less common, do-while loops can be useful when the code in them should be run first before checking the conditional. After running its statements, it checks the conditional and either jumps to the beginning of the do-while loop, or continues running past it."
   ]
  },
  {
   "cell_type": "code",
   "execution_count": null,
   "metadata": {
    "dotnet_interactive": {
     "language": "csharp"
    }
   },
   "outputs": [
    {
     "name": "stdout",
     "output_type": "stream",
     "text": [
      "C is 0\r\n",
      "C is 1\r\n",
      "C is 2\r\n",
      "C is 3\r\n"
     ]
    }
   ],
   "source": [
    "int c = 0;\n",
    "do {\n",
    "    Console.WriteLine(\"C is \" + c);\n",
    "    c++;\n",
    "} while(c < 4);"
   ]
  },
  {
   "cell_type": "markdown",
   "metadata": {},
   "source": [
    "#### For loops\n",
    "For loops are a very useful shorthand for a while loop - you usually need to loop a certain number of times or through a certain number of items\n",
    "\n",
    "// TODO: light introduction to lists"
   ]
  },
  {
   "cell_type": "code",
   "execution_count": null,
   "metadata": {
    "dotnet_interactive": {
     "language": "csharp"
    }
   },
   "outputs": [
    {
     "name": "stdout",
     "output_type": "stream",
     "text": [
      "0...1...2...3...4...5...6...7...8...9..."
     ]
    }
   ],
   "source": [
    "for (var i = 0; i < 10; i++) {\n",
    "    Console.Write($\"{i}...\");\n",
    "}"
   ]
  },
  {
   "cell_type": "markdown",
   "metadata": {},
   "source": [
    "Tricky question: What does this output? Try it and find out.\n",
    "```csharp\n",
    "int c = 0;\n",
    "do {\n",
    "    Console.Write(\"rofl\");\n",
    "} while(false);\n",
    "Console.Write(\"lmao\");\n",
    "```"
   ]
  },
  {
   "cell_type": "markdown",
   "metadata": {},
   "source": [
    "#### Foreach loops\n",
    "\n",
    "// TODO"
   ]
  }
 ],
 "metadata": {
  "kernelspec": {
   "display_name": ".NET (C#)",
   "language": "C#",
   "name": ".net-csharp"
  },
  "language_info": {
   "file_extension": ".cs",
   "mimetype": "text/x-csharp",
   "name": "C#",
   "pygments_lexer": "csharp",
   "version": "8.0"
  },
  "orig_nbformat": 4
 },
 "nbformat": 4,
 "nbformat_minor": 2
}
