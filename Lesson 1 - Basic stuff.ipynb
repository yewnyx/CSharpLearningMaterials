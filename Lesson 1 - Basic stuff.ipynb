{
 "cells": [
  {
   "cell_type": "markdown",
   "metadata": {},
   "source": [
    "# Big ideas"
   ]
  },
  {
   "cell_type": "markdown",
   "metadata": {},
   "source": [
    "## WTF even is a program?\n",
    "Incomplete and hand-wavy, but let's work with it for now.\n",
    "\n",
    "* Input can be:\n",
    "  * Text input\n",
    "  * Files to read from\n",
    "  * Mouse & Keyboard\n",
    "  * Controllers\n",
    "  * Literally any content that you can supply to a program\n",
    "* Behavior/Code is basically...\n",
    "  * ...stuff that takes inputs\n",
    "  ...and produces outputs\n",
    "* Output can be:\n",
    "  * Pixels on your screen\n",
    "  * Sound from your speakers\n",
    "  * Haptics on your controllers\n",
    "  * Files to write to\n",
    "  * Any kind of feedback that the program can produce for you\n"
   ]
  },
  {
   "cell_type": "markdown",
   "metadata": {},
   "source": [
    "### Question Prompt:\n",
    "1. Describe the input(s), output(s), and general behavior of an automatic door.\n",
    "  * For example, a light switch's input is the switch, its output is the light source, and a simple description of its behavior is that flipping the switch causes the light source to output light.\n",
    "2. Describe other real-life things that work in predictable ways. What are their inputs, what are their outputs, and how do they generally behave?"
   ]
  },
  {
   "cell_type": "markdown",
   "metadata": {},
   "source": [
    "\n",
    "## Objects and their relationships\n",
    "\n",
    "One extremely useful way to structure one's thoughts (where programming is concerned) is to interpret the world as containing objects and their relationships. For example, in the light switch example, you have two main objects, the power switch and the power source. There is a relationship beetween the power switch and the light source: the switch is connected to the light source's light emissions.\n",
    "\n",
    "It doesn't have to be connected by behavior, though. A car might be described as a chassis, axles, and wheels. The chassis has two axles, and the axles have two wheels each. That is also a way of describing and breaking down a \"car\" into its components. A TV remote might be broken down into batteries, a circuit board, and buttons, or depending on what you're working with maybe you break it down mechanically as a plastic shell, silicone rubber buttons, a battery cover, etc. - it all depends on what is relevant to you. If you're conceerned with physical design, the physical breakdown matters. If you're designing the electronics, you may wan to describe which electronics you need instead.\n",
    "\n",
    "More on this later, but let's get straight to coding."
   ]
  },
  {
   "cell_type": "markdown",
   "metadata": {},
   "source": [
    "# Code\n",
    "\n",
    "## The most basic shit that works"
   ]
  },
  {
   "cell_type": "code",
   "execution_count": null,
   "metadata": {
    "dotnet_interactive": {
     "language": "csharp"
    }
   },
   "outputs": [
    {
     "name": "stdout",
     "output_type": "stream",
     "text": [
      "Hello world!\r\n",
      "X is 1\r\n",
      "Y is 2\r\n",
      "Y + 2 is 4\r\n"
     ]
    }
   ],
   "source": [
    "Console.WriteLine(\"Hello world!\");\n",
    "// This is a comment\n",
    "int x = 1;\n",
    "int y = x + 1;\n",
    "Console.WriteLine($\"X is {x}\");\n",
    "Console.WriteLine($\"Y is {y}\");\n",
    "var y_plus_2 = y + 2;\n",
    "Console.WriteLine($\"Y + 2 is {y_plus_2}\");\n"
   ]
  },
  {
   "cell_type": "markdown",
   "metadata": {},
   "source": [
    "* `Console.WriteLine`: Print out a line of text.\n",
    "* `\"...\"`: A string of text.\n",
    "* //...: A comment that has no effect on the program.\n",
    "* `int x = 1`: create a variable named `x`, and give it a value of 1. Its type is `int`, i.e. it is an integer.\n",
    "* `int y = x + 1`: create a variable named `y`, add 1 to the value of `x`, and assign that to `y`. Its type is also `int`.\n",
    "* `$\"...\"`: A *formatted* string of text. That is to say...\n",
    "  * `$\"a {x} b\"` looks for the variable named `x`, then substitutes it into the string, resulting in `a 1 b` when `x` is 1.\n",
    "* `var y_plus_2 = y + 2`: create a variable named `y_plus_2` and give it a value of the result of `y + 2`. Because of `var`, C# will try to guess the type (which is often straightforward or obvious to C#).\n"
   ]
  },
  {
   "cell_type": "markdown",
   "metadata": {},
   "source": [
    "## Control statements\n",
    "\n",
    "To see the effects of changing this code you'll need to download Visual Studio Code and install the .NET SDK and whatever Jupyter Notebook stuff it prompts  you to.\n",
    "\n",
    "Not all code gets executed in order like a list from line 0 to 100 (or however many you have). Sometimes, you want to skip lines, or repeat lines. Control statements direct this flow of code.\n",
    "\n",
    "### Conditionals: If, else, and else if\n",
    "The basic conditional control statements (\"conditionals\" for short) check if something is true or not, then choose the lines of code to run if the condition is true or not.\n",
    "\n",
    "The syntax [1] for `if` is `if (CONDITION) { STATEMENTS }` - where `CONDITION` is an **expression** that seems like it could be true or false[2], and `STATEMENTS` are lines of code (**statements**\") that do stuff. More on that later.\n",
    "\n",
    "The syntax for `else` is `else { STATEMENTS }`, but it ALWAYS has to be preceded by an `if`. (`else if` does count)\n",
    "\n",
    "The syntax for `else if` is `else if (CONDITION { STATEMENTS }`), and like `else`, it always follows `if`.\n",
    "\n",
    "You can use `if` by itself, or you can use `if { ... } else { ... }`. Similarly, you can `else if` if you want to chech a couple of things in a row.\n",
    "\n",
    "[1]: Hold up, what's syntax, you might ask? tl;dr it's structured text. Stuff a computer can look at and say \"that doesn't look right\", i.e. \"doesn't that need an end parentheses?\" or \"that line should have a semicolon at the end\".\n",
    "[2]: Also known as a \"Boolean\", or `bool`. So in this case we'd call it a \"boolean expression\", or a \"condition\"."
   ]
  },
  {
   "cell_type": "code",
   "execution_count": null,
   "metadata": {
    "dotnet_interactive": {
     "language": "csharp"
    }
   },
   "outputs": [
    {
     "name": "stdout",
     "output_type": "stream",
     "text": [
      "A is neither less than zero nor exactly zero...so it's greater than zero (a > 0).\r\n"
     ]
    }
   ],
   "source": [
    "var a = 1; // Change me and see the difference in output!\n",
    "if (a < 0) { // Is a less than zero? If so, do this.\n",
    "    Console.WriteLine(\"A is less than zero! It is: \" + a.ToString());\n",
    "} else if (a == 0) { // If not, was it equal to zero? If so, do this.\n",
    "    Console.WriteLine(\"A is exactly zero!\");\n",
    "} else { // If not, do this.\n",
    "    Console.WriteLine(\"A is neither less than zero nor exactly zero...so it's greater than zero (a > 0).\");\n",
    "}"
   ]
  },
  {
   "cell_type": "markdown",
   "metadata": {},
   "source": [
    "### for"
   ]
  },
  {
   "cell_type": "code",
   "execution_count": null,
   "metadata": {
    "dotnet_interactive": {
     "language": "csharp"
    }
   },
   "outputs": [
    {
     "name": "stdout",
     "output_type": "stream",
     "text": [
      "0...1...2...3...4...5...6...7...8...9..."
     ]
    }
   ],
   "source": [
    "for (var i = 0; i < 10; i++) {\n",
    "    Console.Write($\"{i}...\");\n",
    "}"
   ]
  },
  {
   "cell_type": "markdown",
   "metadata": {},
   "source": []
  },
  {
   "cell_type": "markdown",
   "metadata": {},
   "source": [
    "# C# Basic Syntax WIP\n",
    "(what is syntax?)\n",
    "\n",
    "comments\n",
    "literal 1\n",
    "variable a\n",
    "...what is a type?\n",
    "expression 1 + a\n",
    "statement b = 1 + a or add(1, a) (first one is assigment statement)\n",
    "\n",
    "control statements\n",
    "if\n",
    "else\n",
    "elseif\n",
    "\n",
    "for\n",
    "foreach\n",
    "while"
   ]
  }
 ],
 "metadata": {
  "kernelspec": {
   "display_name": ".NET (C#)",
   "language": "C#",
   "name": ".net-csharp"
  },
  "language_info": {
   "file_extension": ".cs",
   "mimetype": "text/x-csharp",
   "name": "C#",
   "pygments_lexer": "csharp",
   "version": "8.0"
  },
  "orig_nbformat": 4
 },
 "nbformat": 4,
 "nbformat_minor": 2
}
